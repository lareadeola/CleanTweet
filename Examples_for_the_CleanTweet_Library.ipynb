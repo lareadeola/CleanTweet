{
  "nbformat": 4,
  "nbformat_minor": 0,
  "metadata": {
    "colab": {
      "provenance": [],
      "authorship_tag": "ABX9TyNxwZ1lZrVBtgc4X+Q9EqG9"
    },
    "kernelspec": {
      "name": "python3",
      "display_name": "Python 3"
    },
    "language_info": {
      "name": "python"
    }
  },
  "cells": [
    {
      "cell_type": "code",
      "execution_count": null,
      "metadata": {
        "id": "Bv8_t6IM1qH5"
      },
      "outputs": [],
      "source": [
        "# Clean a long piece of text\n",
        "# Sentiment Analysis\n",
        "# NLP Charts\n",
        "# Synthetic Data\n",
        "# POS Tagging"
      ]
    }
  ]
}